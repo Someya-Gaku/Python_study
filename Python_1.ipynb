{
  "nbformat": 4,
  "nbformat_minor": 0,
  "metadata": {
    "colab": {
      "provenance": [],
      "authorship_tag": "ABX9TyMFeoKgQ7p2nap1guu82CaC",
      "include_colab_link": true
    },
    "kernelspec": {
      "name": "python3",
      "display_name": "Python 3"
    },
    "language_info": {
      "name": "python"
    }
  },
  "cells": [
    {
      "cell_type": "markdown",
      "metadata": {
        "id": "view-in-github",
        "colab_type": "text"
      },
      "source": [
        "<a href=\"https://colab.research.google.com/github/Someya-Gaku/Python_study/blob/main/Python_1.ipynb\" target=\"_parent\"><img src=\"https://colab.research.google.com/assets/colab-badge.svg\" alt=\"Open In Colab\"/></a>"
      ]
    },
    {
      "cell_type": "code",
      "execution_count": null,
      "metadata": {
        "colab": {
          "base_uri": "https://localhost:8080/",
          "height": 87
        },
        "id": "UJiWpVtYE8A0",
        "outputId": "0315f1b5-4083-4335-f0c7-f6a0af5db000"
      },
      "outputs": [
        {
          "output_type": "stream",
          "name": "stdout",
          "text": [
            "hello, world !\n",
            "aiueo\n",
            "a\n"
          ]
        },
        {
          "output_type": "execute_result",
          "data": {
            "text/plain": [
              "'e'"
            ],
            "application/vnd.google.colaboratory.intrinsic+json": {
              "type": "string"
            }
          },
          "metadata": {},
          "execution_count": 2
        }
      ],
      "source": [
        "print(\"hello, world !\")\n",
        "\n",
        "x = \"aiueo\"\n",
        "print( x )\n",
        "\n",
        "print(x[0])\n",
        "x[3]"
      ]
    },
    {
      "cell_type": "code",
      "source": [
        "print (1 + 1) #足し算\n",
        "print (2 * 5) #掛け算\n",
        "print (10 ** 3) #10の3乗"
      ],
      "metadata": {
        "colab": {
          "base_uri": "https://localhost:8080/"
        },
        "id": "2_UEPPNnFMLH",
        "outputId": "6d8f5ede-9d86-4121-d68d-4856536b4b7d"
      },
      "execution_count": null,
      "outputs": [
        {
          "output_type": "stream",
          "name": "stdout",
          "text": [
            "2\n",
            "10\n",
            "1000\n"
          ]
        }
      ]
    },
    {
      "cell_type": "code",
      "source": [
        "x[5] #↓範囲外なのでエラーが出ている"
      ],
      "metadata": {
        "colab": {
          "base_uri": "https://localhost:8080/",
          "height": 180
        },
        "id": "lUzXLV8zF97-",
        "outputId": "0f875fe9-a9e0-4145-b0b7-630e84a1963a"
      },
      "execution_count": null,
      "outputs": [
        {
          "output_type": "error",
          "ename": "IndexError",
          "evalue": "ignored",
          "traceback": [
            "\u001b[0;31m---------------------------------------------------------------------------\u001b[0m",
            "\u001b[0;31mIndexError\u001b[0m                                Traceback (most recent call last)",
            "\u001b[0;32m<ipython-input-14-6d684c752c8f>\u001b[0m in \u001b[0;36m<cell line: 1>\u001b[0;34m()\u001b[0m\n\u001b[0;32m----> 1\u001b[0;31m \u001b[0mx\u001b[0m\u001b[0;34m[\u001b[0m\u001b[0;36m5\u001b[0m\u001b[0;34m]\u001b[0m \u001b[0;31m#↓範囲外なのでエラーが出ている\u001b[0m\u001b[0;34m\u001b[0m\u001b[0;34m\u001b[0m\u001b[0m\n\u001b[0m",
            "\u001b[0;31mIndexError\u001b[0m: string index out of range"
          ]
        }
      ]
    },
    {
      "cell_type": "code",
      "source": [
        "a = 1\n",
        "a = a + 29\n",
        "print (a)"
      ],
      "metadata": {
        "colab": {
          "base_uri": "https://localhost:8080/"
        },
        "id": "5RYpm4ADGQY5",
        "outputId": "58ee6336-3589-4c8d-d3ad-2531843eecf9"
      },
      "execution_count": null,
      "outputs": [
        {
          "output_type": "stream",
          "name": "stdout",
          "text": [
            "30\n"
          ]
        }
      ]
    },
    {
      "cell_type": "code",
      "source": [
        "#リスト (角かっこを使う [])\n",
        "number_list = [1,2,3,4,5,6,7,8,9,10]\n",
        "\n",
        "number_list.append(30)              #number_listに要素を追加\n",
        "number_list.extend([50, 100, 1000]) #number_listにリスト型で要素を追加\n",
        "\n",
        "print(number_list)                  #number_listを出力\n",
        "\n",
        "print (type(number_list))           #number_listという変数のタイプを出力 type(number_list)だけだと list と出力される\n",
        "print (number_list[5])              #number_listの6番目\n",
        "len(number_list)                    #number_listの長さ\n",
        "\n",
        "\n",
        "#リストに対して + 演算子を使用すると、別のリストと結合して新しいリストを作成することができます。\n",
        "\n",
        "#リストA + リストB\n",
        "#2つのリストの要素を持つ新しいリストを作成します。\n",
        "\n",
        "#具体的には次のように記述します。\n",
        "\n",
        "#list1 = [\"A\", \"B\"]\n",
        "#list2 = [\"C\", \"D\"]\n",
        "#list3 = list1 + list2\n",
        "#print(list3)\n",
        "#--> [\"A\", \"B\", \"C\", \"D\"]"
      ],
      "metadata": {
        "colab": {
          "base_uri": "https://localhost:8080/"
        },
        "id": "93-iHqeyGtH5",
        "outputId": "4e594f77-7152-4b55-a78f-b50c77bd47f1"
      },
      "execution_count": null,
      "outputs": [
        {
          "output_type": "stream",
          "name": "stdout",
          "text": [
            "[1, 2, 3, 4, 5, 6, 7, 8, 9, 10, 30, 50, 100, 1000]\n",
            "<class 'list'>\n",
            "6\n"
          ]
        },
        {
          "output_type": "execute_result",
          "data": {
            "text/plain": [
              "14"
            ]
          },
          "metadata": {},
          "execution_count": 66
        }
      ]
    },
    {
      "cell_type": "code",
      "source": [
        "number_list * 2"
      ],
      "metadata": {
        "colab": {
          "base_uri": "https://localhost:8080/"
        },
        "id": "xVzg-XTWGvoJ",
        "outputId": "080c7157-e59e-4671-f1a8-160b87aaeee1"
      },
      "execution_count": null,
      "outputs": [
        {
          "output_type": "execute_result",
          "data": {
            "text/plain": [
              "[1,\n",
              " 2,\n",
              " 3,\n",
              " 4,\n",
              " 5,\n",
              " 6,\n",
              " 7,\n",
              " 8,\n",
              " 9,\n",
              " 10,\n",
              " 30,\n",
              " 50,\n",
              " 100,\n",
              " 1000,\n",
              " 1,\n",
              " 2,\n",
              " 3,\n",
              " 4,\n",
              " 5,\n",
              " 6,\n",
              " 7,\n",
              " 8,\n",
              " 9,\n",
              " 10,\n",
              " 30,\n",
              " 50,\n",
              " 100,\n",
              " 1000]"
            ]
          },
          "metadata": {},
          "execution_count": 83
        }
      ]
    },
    {
      "cell_type": "code",
      "source": [
        "number_list_x2 = []                            #入れ物(リスト型)を作成\n",
        "\n",
        "print (\"---\")\n",
        "number_list_x2 = [i * 2 for i in number_list]  #数字をiへ1ずつ代入して2倍したものを作成した入れ物へ突っ込む（for文の内包表記 → 別のリストを新たに作成する方法）p22\n",
        "print (number_list_x2)                         #入れ物を出力\n",
        "print (number_list)\n",
        "\n",
        "print (\"---\")\n",
        "\n",
        "#内包表記を使って、指定した整数のみで新しいリストを作成する　p22\n",
        "print (number_list)\n",
        "print ([i * 2 for i in number_list if i % 2 == 0])  #number_listの中から条件(i%2 == 0)に合うものをiへ代入して2倍した整数リストを出力 →この場合、(2,4,6,8,10,30,50,100,1000)が該当する"
      ],
      "metadata": {
        "colab": {
          "base_uri": "https://localhost:8080/"
        },
        "id": "aYuZJr81IW_f",
        "outputId": "f7452f1f-5cd8-4bb9-840c-19a5754a2b66"
      },
      "execution_count": null,
      "outputs": [
        {
          "output_type": "stream",
          "name": "stdout",
          "text": [
            "---\n",
            "[2, 4, 6, 8, 10, 12, 14, 16, 18, 20, 60, 100, 200, 2000]\n",
            "[1, 2, 3, 4, 5, 6, 7, 8, 9, 10, 30, 50, 100, 1000]\n",
            "---\n",
            "[1, 2, 3, 4, 5, 6, 7, 8, 9, 10, 30, 50, 100, 1000]\n",
            "[4, 8, 12, 16, 20, 60, 100, 200, 2000]\n"
          ]
        }
      ]
    },
    {
      "cell_type": "code",
      "source": [
        "#リストの中身に関数を定義させる方法で2倍にする // 詳しくは後述\n",
        "list(map(lambda x : x * 2, [1,2,3,4,5,6,7,8,9,10]))"
      ],
      "metadata": {
        "colab": {
          "base_uri": "https://localhost:8080/"
        },
        "id": "53JNNMt60RFS",
        "outputId": "bbe6ca32-a39c-497f-d87c-5125bb84de28"
      },
      "execution_count": null,
      "outputs": [
        {
          "output_type": "execute_result",
          "data": {
            "text/plain": [
              "[2, 4, 6, 8, 10, 12, 14, 16, 18, 20]"
            ]
          },
          "metadata": {},
          "execution_count": 107
        }
      ]
    },
    {
      "cell_type": "code",
      "source": [
        "#辞書型 (波かっこを使う {} ){キー:値}の形\n",
        "dic_data = {\"apple\":100, \"banana\":200, \"olenge\":500}  # 数字:\"文字\" でも問題無し\n",
        "print ( dic_data )\n",
        "print ( dic_data [\"banana\"])\n",
        "\n",
        "print (dic_data [\"banana\"] + dic_data[\"olenge\"])   #辞書型同士で四則演算"
      ],
      "metadata": {
        "colab": {
          "base_uri": "https://localhost:8080/"
        },
        "id": "gluhDj1AIf_Z",
        "outputId": "7a0b3d06-f465-4c42-bd3f-918c670e3d13"
      },
      "execution_count": null,
      "outputs": [
        {
          "output_type": "stream",
          "name": "stdout",
          "text": [
            "{'apple': 100, 'banana': 200, 'olenge': 500}\n",
            "200\n",
            "700\n"
          ]
        }
      ]
    },
    {
      "cell_type": "code",
      "source": [
        "dic_data[\"melon\"] = 700 # \"melon\"がなければ追加。あれば 700へ値を更新する\n",
        "print (dic_data)"
      ],
      "metadata": {
        "colab": {
          "base_uri": "https://localhost:8080/"
        },
        "id": "eq_KQx2JLSQV",
        "outputId": "52c317ae-de1b-45f9-9e6e-5bccd66e2135"
      },
      "execution_count": null,
      "outputs": [
        {
          "output_type": "stream",
          "name": "stdout",
          "text": [
            "{'apple': 100, 'banana': 200, 'olenge': 500, 'melon': 700}\n"
          ]
        }
      ]
    },
    {
      "cell_type": "code",
      "source": [
        "#辞書型を使って要素を追加、更新する\n",
        "#＊辞書型.update(追加元の辞書型)＊\n",
        "SUB_dic_data = {\"apple\":777, \"lemon\":1500}\n",
        "\n",
        "dic_data.update(SUB_dic_data)\n",
        "print(dic_data)\n",
        "\n",
        "#for文を使って辞書型のキーを基準に中身を表示させる {キー:値}の形\n",
        "for dic_key in dic_data:\n",
        "  print(dic_key, dic_data[dic_key])\n",
        "\n",
        "print (\"---\")\n",
        "\n",
        "#for文と.items()メソッドを使って辞書型のキーと値を同時に表示\n",
        "for dic_key, dic_value in dic_data.items():\n",
        "  print (dic_key, dic_value)\n",
        "\n"
      ],
      "metadata": {
        "colab": {
          "base_uri": "https://localhost:8080/"
        },
        "id": "wyTxElYtQz5r",
        "outputId": "3552b7ea-9692-4180-e8d4-21a2601b978d"
      },
      "execution_count": null,
      "outputs": [
        {
          "output_type": "stream",
          "name": "stdout",
          "text": [
            "{'apple': 777, 'banana': 200, 'olenge': 500, 'melon': 700, 'lemon': 1500}\n",
            "apple 777\n",
            "banana 200\n",
            "olenge 500\n",
            "melon 700\n",
            "lemon 1500\n",
            "---\n",
            "apple 777\n",
            "banana 200\n",
            "olenge 500\n",
            "melon 700\n",
            "lemon 1500\n"
          ]
        }
      ]
    },
    {
      "cell_type": "code",
      "source": [
        "# if文 \":\"を必ず入れる ←忘れがちなので重要\n",
        "number_data = [1, 2, 3, 4, 5, 6, 7, 8, 9, 10]\n",
        "\n",
        "find_number = 5\n",
        "\n",
        "if find_number in number_data:\n",
        "    # 真(number_dataの中にfind_numberがある)の場合\n",
        "    print (\"{0}があります\" .format(number_data))\n",
        "    print (\"{0}があります\" .format(number_data[4]))\n",
        "    print (\"{0}があります\" .format(find_number))\n",
        "else:\n",
        "     # 偽(number_dataの中にfind_numberがない)の場合\n",
        "     print (\"{0}がありません\" .format(find_number))\n",
        "\n",
        "# \"[]\" (角カッコ)ではなく\"{}\" (波カッコ)であることに注意\n",
        "# \":\"を入れ忘れると以下のエラーが出る\n",
        "#「SyntaxError: expected ':'」\n",
        "\n",
        "#.format()は、\"変数などを文字列に入れることができる方法\"\n",
        "#たとえば、以下のように入れると\n",
        "#print (\"{0}と{1}、{3}+{4}！\" .format(1,2,3,4,5,6,7,8,9,10))\n",
        "#1と2、4+5！\n",
        "#と表示される（文字列なので計算はできない？）\n",
        "\n"
      ],
      "metadata": {
        "id": "1yYz_TNSRA8g",
        "colab": {
          "base_uri": "https://localhost:8080/"
        },
        "outputId": "073ca221-df2a-4b83-9462-9be754778186"
      },
      "execution_count": null,
      "outputs": [
        {
          "output_type": "stream",
          "name": "stdout",
          "text": [
            "[1, 2, 3, 4, 5, 6, 7, 8, 9, 10]があります\n",
            "5があります\n",
            "5があります\n"
          ]
        }
      ]
    },
    {
      "cell_type": "code",
      "source": [
        "# for文　\":\"を必ず入れる ←忘れがちなので重要\n",
        "\n",
        "for_total = 0 #初期値\n",
        "\n",
        "for numbers in [1, 2, 3, 4, 5]:\n",
        "  print (\"順番に取り出してnumbersに代入 : \", numbers)\n",
        "  for_total = for_total + numbers\n",
        "  print (\"現在のfor_total : \", for_total) #途中経過\n",
        "\n",
        "#インデントが大事\n",
        "print (\"最終結果 : \", for_total)"
      ],
      "metadata": {
        "colab": {
          "base_uri": "https://localhost:8080/"
        },
        "id": "5ms1FX2AQmX8",
        "outputId": "2b4567e6-08af-477e-8fe4-999a45e4a575"
      },
      "execution_count": null,
      "outputs": [
        {
          "output_type": "stream",
          "name": "stdout",
          "text": [
            "順番に取り出してnumbersに代入 :  1\n",
            "現在のfor_total :  1\n",
            "順番に取り出してnumbersに代入 :  2\n",
            "現在のfor_total :  3\n",
            "順番に取り出してnumbersに代入 :  3\n",
            "現在のfor_total :  6\n",
            "順番に取り出してnumbersに代入 :  4\n",
            "現在のfor_total :  10\n",
            "順番に取り出してnumbersに代入 :  5\n",
            "現在のfor_total :  15\n",
            "最終結果 :  15\n"
          ]
        }
      ]
    },
    {
      "cell_type": "code",
      "source": [
        "#range関数 (連続した整数を作成できる)　p20\n",
        "\n",
        "for i in range(11):  #11なので、0～10の11個の整数\n",
        "  print (\"print(i)の場合:\", i)\n",
        "  print (\"print(i+1)の場合:\", i+1)\n",
        "  print (\"---\")\n",
        "\n",
        "#for文終了後\n",
        "print (i)\n",
        "print (\"{0}\" .format(i))"
      ],
      "metadata": {
        "colab": {
          "base_uri": "https://localhost:8080/"
        },
        "id": "rgLdEwdAT64C",
        "outputId": "771726b8-c71c-4bf9-ad0d-04f7410078b7"
      },
      "execution_count": null,
      "outputs": [
        {
          "output_type": "stream",
          "name": "stdout",
          "text": [
            "print(i)の場合: 0\n",
            "print(i+1)の場合: 1\n",
            "---\n",
            "print(i)の場合: 1\n",
            "print(i+1)の場合: 2\n",
            "---\n",
            "print(i)の場合: 2\n",
            "print(i+1)の場合: 3\n",
            "---\n",
            "print(i)の場合: 3\n",
            "print(i+1)の場合: 4\n",
            "---\n",
            "print(i)の場合: 4\n",
            "print(i+1)の場合: 5\n",
            "---\n",
            "print(i)の場合: 5\n",
            "print(i+1)の場合: 6\n",
            "---\n",
            "print(i)の場合: 6\n",
            "print(i+1)の場合: 7\n",
            "---\n",
            "print(i)の場合: 7\n",
            "print(i+1)の場合: 8\n",
            "---\n",
            "print(i)の場合: 8\n",
            "print(i+1)の場合: 9\n",
            "---\n",
            "print(i)の場合: 9\n",
            "print(i+1)の場合: 10\n",
            "---\n",
            "print(i)の場合: 10\n",
            "print(i+1)の場合: 11\n",
            "---\n",
            "10\n",
            "10\n"
          ]
        }
      ]
    },
    {
      "cell_type": "code",
      "source": [
        "#range関数 (飛ばし飛ばしで連続した整数を作成)？ p021\n",
        "\n",
        "for i in range(1, 11, 2): #(最初の数, (最後の値) ＋１, 飛ばす数) →１からはじまり、10まで取り出して、2つ飛ばしで表示\n",
        "  print (i)"
      ],
      "metadata": {
        "colab": {
          "base_uri": "https://localhost:8080/"
        },
        "id": "GQIwwd07WY7i",
        "outputId": "d778140b-1ff4-43fb-a19a-1660b1191b28"
      },
      "execution_count": null,
      "outputs": [
        {
          "output_type": "stream",
          "name": "stdout",
          "text": [
            "1\n",
            "3\n",
            "5\n",
            "7\n",
            "9\n"
          ]
        }
      ]
    },
    {
      "cell_type": "code",
      "source": [
        "#zip関数 (異なるリストから1番目、2番目…と同時に取りだしていく)\n",
        "for one, two in zip ([1,2,3], [10,11,12]):\n",
        "  print (one, \"と\", two)\n",
        "  print (\"加算：\", one + two)"
      ],
      "metadata": {
        "colab": {
          "base_uri": "https://localhost:8080/"
        },
        "id": "ifsXjt0VYEU5",
        "outputId": "f53e50d7-a1b2-4524-a7d3-92c85e43f174"
      },
      "execution_count": null,
      "outputs": [
        {
          "output_type": "stream",
          "name": "stdout",
          "text": [
            "1 と 10\n",
            "加算： 11\n",
            "2 と 11\n",
            "加算： 13\n",
            "3 と 12\n",
            "加算： 15\n"
          ]
        }
      ]
    },
    {
      "cell_type": "code",
      "source": [
        "#while文 (条件を満たしている間のみ繰り返す)\n",
        "\n",
        "number_while = 0 #初期値\n",
        "\n",
        "while number_while <= 10:\n",
        "  print (number_while)\n",
        "  number_while = number_while + 1\n",
        "\n",
        "print (\"最後の値は{0}です\".format(number_while))"
      ],
      "metadata": {
        "id": "lAlZ-L3GedT1",
        "colab": {
          "base_uri": "https://localhost:8080/"
        },
        "outputId": "cf4690ba-f9b5-41dd-ee53-eed7dbe4e430"
      },
      "execution_count": null,
      "outputs": [
        {
          "output_type": "stream",
          "name": "stdout",
          "text": [
            "0\n",
            "1\n",
            "2\n",
            "3\n",
            "4\n",
            "5\n",
            "6\n",
            "7\n",
            "8\n",
            "9\n",
            "10\n",
            "最後の値は11です\n"
          ]
        }
      ]
    },
    {
      "cell_type": "code",
      "source": [
        "#関数 (一連の処理を簡単にするために、関数を定義（作成）することができる)\n",
        "def calc_multi (a, b):  #calc_multiという名前の関数、引数にaとbを使う\n",
        "  return a * b          #calc_multiで a * bを計算して返却する\n",
        "\n",
        "#関数の実行（関数の呼び出し）\n",
        "calc_multi(4, 25)\n"
      ],
      "metadata": {
        "colab": {
          "base_uri": "https://localhost:8080/"
        },
        "id": "0JTMpPdSqnXa",
        "outputId": "317a16b4-2759-4c0c-c778-434d31d5f833"
      },
      "execution_count": null,
      "outputs": [
        {
          "output_type": "execute_result",
          "data": {
            "text/plain": [
              "100"
            ]
          },
          "metadata": {},
          "execution_count": 78
        }
      ]
    },
    {
      "cell_type": "code",
      "source": [
        "#関数は引数や返り値(return)がなくても作成できる\n",
        "def calc_message():\n",
        "  print(\"関数の実行結果\")\n",
        "\n",
        "calc_message()"
      ],
      "metadata": {
        "colab": {
          "base_uri": "https://localhost:8080/"
        },
        "id": "cBVG3JfBrfs_",
        "outputId": "cda4b9d2-3c01-46b6-9e6b-bbc816ccfdde"
      },
      "execution_count": null,
      "outputs": [
        {
          "output_type": "stream",
          "name": "stdout",
          "text": [
            "関数の実行結果\n"
          ]
        }
      ]
    },
    {
      "cell_type": "code",
      "source": [
        "#map関数を使ってリストに対して関数を使う方法\n",
        "def map_test(x):\n",
        "  return x*2\n",
        "\n",
        "for map_number in [1,2,3]:\n",
        "  print(map_test(map_number))\n",
        "\n",
        "print(\"---\")\n",
        "list(map(map_test, [1,2,3]))  #mapを用いてリスト[1,2,3]をそれぞれxに代入して2倍したリストを作成"
      ],
      "metadata": {
        "colab": {
          "base_uri": "https://localhost:8080/"
        },
        "id": "IuPYsODsy6nH",
        "outputId": "4dfe2f98-f05c-49f3-e5ba-d156ab26133a"
      },
      "execution_count": null,
      "outputs": [
        {
          "output_type": "stream",
          "name": "stdout",
          "text": [
            "2\n",
            "4\n",
            "6\n",
            "---\n"
          ]
        },
        {
          "output_type": "execute_result",
          "data": {
            "text/plain": [
              "[2, 4, 6]"
            ]
          },
          "metadata": {},
          "execution_count": 106
        }
      ]
    },
    {
      "cell_type": "code",
      "source": [
        "#無名関数 (関数を定義して呼び出すのではなく、直接的に関数を記述できる。 lambdaを使う)\n",
        "#リストなどの要素に対して何か関数を実行したいときによく使う\n",
        "(lambda a, b: a * b)(4, 25)"
      ],
      "metadata": {
        "colab": {
          "base_uri": "https://localhost:8080/"
        },
        "id": "n58wLwzayWdp",
        "outputId": "05ea1262-2b3f-44c6-89a3-8c693efb2f20"
      },
      "execution_count": null,
      "outputs": [
        {
          "output_type": "execute_result",
          "data": {
            "text/plain": [
              "100"
            ]
          },
          "metadata": {},
          "execution_count": 95
        }
      ]
    },
    {
      "cell_type": "code",
      "source": [
        "lambda_test = [1,2,3,4,5]\n",
        "list(map(lambda x : x * 2,lambda_test))  #list(map(lambda x : x * 2, [1,2,3,4,5]))でも同じ実行結果になる"
      ],
      "metadata": {
        "colab": {
          "base_uri": "https://localhost:8080/"
        },
        "id": "kKaWOCL5yYo9",
        "outputId": "9187cbfb-0746-47aa-b73f-55959b75d12d"
      },
      "execution_count": null,
      "outputs": [
        {
          "output_type": "execute_result",
          "data": {
            "text/plain": [
              "[2, 4, 6, 8, 10]"
            ]
          },
          "metadata": {},
          "execution_count": 97
        }
      ]
    },
    {
      "cell_type": "code",
      "source": [
        "#再帰関数(関数の中で関数を呼び出すもの) (フィボナッチ数列を作成する(1つ前の数を足し合わせていく数列))\n",
        "\n",
        "def calc_fib(n):\n",
        "  if n == 1 or n == 2:\n",
        "    return 1\n",
        "  else:\n",
        "    return calc_fib(n - 1) + calc_fib(n - 2)\n",
        "\n",
        "print(\"1, 1, 2, 3, 5, 8, 13...\")\n",
        "print(\"フィボナッチ数:\", calc_fib(6)) #この関数に6を指定すると…\n",
        "\n"
      ],
      "metadata": {
        "colab": {
          "base_uri": "https://localhost:8080/"
        },
        "id": "loVae4PusGfx",
        "outputId": "9a1381bb-4dda-45ee-a67d-50e12171f9ea"
      },
      "execution_count": null,
      "outputs": [
        {
          "output_type": "stream",
          "name": "stdout",
          "text": [
            "1, 1, 2, 3, 5, 8, 13...\n",
            "フィボナッチ数: 8\n"
          ]
        }
      ]
    },
    {
      "cell_type": "code",
      "source": [
        "#map関数とabs関数 (abs()は引数を1つ取り、その値の絶対値を返す関数)\n",
        "list(map(abs, [-1,2,3,-4,5,6,-7,8,-9,-10]))"
      ],
      "metadata": {
        "colab": {
          "base_uri": "https://localhost:8080/"
        },
        "id": "Lmcu_Zj5xNCN",
        "outputId": "e6fee6b8-89ff-4ba8-ee20-c93e533d3f17"
      },
      "execution_count": null,
      "outputs": [
        {
          "output_type": "execute_result",
          "data": {
            "text/plain": [
              "[1, 2, 3, 4, 5, 6, 7, 8, 9, 10]"
            ]
          },
          "metadata": {},
          "execution_count": 114
        }
      ]
    },
    {
      "cell_type": "code",
      "source": [
        "#filter関数(filter())はリストやタプルの要素のうち関数を適用した結果が True となるものだけをイテレータとして返す関数\n",
        "list (filter(lambda x :abs(x) > 5, [1, -2, 3, -4, 5, -6, 7, -8, 9, -10]))\n",
        "\n",
        "#lambda(無名関数で xの絶対値が5よりも大きいものだけを取り出してfilterにかけている)"
      ],
      "metadata": {
        "colab": {
          "base_uri": "https://localhost:8080/"
        },
        "id": "B8esoEaS1ZDK",
        "outputId": "d03ea603-a965-4e4a-a91a-9ecc5003339b"
      },
      "execution_count": null,
      "outputs": [
        {
          "output_type": "execute_result",
          "data": {
            "text/plain": [
              "[-6, 7, -8, 9, -10]"
            ]
          },
          "metadata": {},
          "execution_count": 116
        }
      ]
    },
    {
      "cell_type": "code",
      "source": [
        "#reduce関数(reduce()) はリストやタプルの要素を足しあわせたりかけあわせたりする関数で「畳み込み」演算とも呼ばれる\n",
        "#reduce(《関数(func)》,《list》)\n",
        "\n",
        "from functools import reduce  # python 3 では必要\n",
        "\n",
        "reduce_test1 = [-1, 3, -5, 7, -9]\n",
        "reduce(lambda x, y: x + y, reduce_test)"
      ],
      "metadata": {
        "colab": {
          "base_uri": "https://localhost:8080/"
        },
        "id": "JrSELWN72Wdo",
        "outputId": "bf3e9c8d-c6c1-478c-edfa-c6f5866626df"
      },
      "execution_count": null,
      "outputs": [
        {
          "output_type": "execute_result",
          "data": {
            "text/plain": [
              "-5"
            ]
          },
          "metadata": {},
          "execution_count": 143
        }
      ]
    },
    {
      "cell_type": "code",
      "source": [
        "from operator import add #  Python では演算子である + を reduce に渡すようなことはできないため、 + のかわりに add を使う\n",
        "\n",
        "reduce_test2 = [-1, 3, -5, 7, -9]\n",
        "print(reduce(add, reduce_test))"
      ],
      "metadata": {
        "colab": {
          "base_uri": "https://localhost:8080/"
        },
        "id": "pJ5PygP73a3c",
        "outputId": "4adc2b08-b1dc-4d55-aa70-7b68218982cb"
      },
      "execution_count": null,
      "outputs": [
        {
          "output_type": "stream",
          "name": "stdout",
          "text": [
            "-5\n"
          ]
        }
      ]
    },
    {
      "cell_type": "code",
      "source": [
        "#練習問題1-1\n",
        "#ある文字列(Data Science)を変数へ格納して、それを1文字ずつ表示させるプログラムを作成しなさい。\n",
        "\n",
        "practice1_1 = \"Data Science\"\n",
        "\n",
        "#解答1\n",
        "for i in practice1_1:\n",
        "  print (i)\n",
        "\n",
        "print(\"---\")\n",
        "\n",
        "#解答2\n",
        "for i in range(0, len(practice1_1)):\n",
        "  print(practice1_1[i])\n",
        "\n",
        "print(\"---\")\n",
        "\n",
        "#解答3\n",
        "for i in practice1_1:\n",
        "    print(i, end = \" \")"
      ],
      "metadata": {
        "colab": {
          "base_uri": "https://localhost:8080/"
        },
        "id": "IQ-vH0ei64K0",
        "outputId": "1c9cb42b-4cae-401c-ec6e-b17fabb3b26e"
      },
      "execution_count": null,
      "outputs": [
        {
          "output_type": "stream",
          "name": "stdout",
          "text": [
            "D\n",
            "a\n",
            "t\n",
            "a\n",
            " \n",
            "S\n",
            "c\n",
            "i\n",
            "e\n",
            "n\n",
            "c\n",
            "e\n",
            "---\n",
            "D\n",
            "a\n",
            "t\n",
            "a\n",
            " \n",
            "S\n",
            "c\n",
            "i\n",
            "e\n",
            "n\n",
            "c\n",
            "e\n",
            "---\n",
            "D a t a   S c i e n c e "
          ]
        }
      ]
    },
    {
      "cell_type": "code",
      "source": [
        "#練習問題1-2\n",
        "#1～50までの自然数の和を計算し、最終結果を表示させなさい。(答えは1275になる)\n",
        "\n",
        "#解答1\n",
        "total1 = 0 #初期値\n",
        "\n",
        "for i in range(50):   # iに、0～49の値を1つずつ入れる\n",
        "  i = i + 1           # iのそれぞれに1を足すことで、1～50の数列にする\n",
        "  total1 = total1 + i   #1～50の数列を変数totalに１つずつ入れていく\n",
        "\n",
        "print (total1)         #最終結果(total)を表示\n",
        "\n",
        "#解答2\n",
        "total2 = 0\n",
        "for x in range(1,51):\n",
        "  total2 += x   #total2 = total2 + xと同じ\n",
        "print(total2)\n",
        "\n",
        "#解答3\n",
        "print(sum(x for x in range(1,51)))  #sum関数は要素の数値の合計を求める関数\n",
        "\n",
        "#sumの使用例\n",
        "#xs = [0, 1, 2, 3, 4]\n",
        "#print(sum(xs))         → 10\n",
        "#print(sum(xs, 20))     → 30\n"
      ],
      "metadata": {
        "colab": {
          "base_uri": "https://localhost:8080/"
        },
        "id": "h9oIIUG474XU",
        "outputId": "71c0d1a5-f41e-4c9f-8e7c-045cee846a71"
      },
      "execution_count": null,
      "outputs": [
        {
          "output_type": "stream",
          "name": "stdout",
          "text": [
            "1275\n",
            "1275\n",
            "1275\n"
          ]
        }
      ]
    },
    {
      "cell_type": "code",
      "source": [
        "#クラス(鯛焼きの型のようなイメージ)とインスタンス(鯛焼きの種類:クリーム鯛焼き、あんこ鯛焼き…などのイメージ)\n",
        "\n",
        "#class_testというクラスを作成し、class_printという関数(メソッド)の作成\n",
        "class class_test:\n",
        "  def class_print(taiyaki):\n",
        "    print(taiyaki.x, taiyaki.y)\n",
        "\n",
        "inst_test1 = class_test() #作成したクラスを元にインスタンスの作成\n",
        "\n",
        "#インスタンスの中身(属性の値を代入)\n",
        "inst_test1.x = 10\n",
        "inst_test1.y = 100\n",
        "inst_test1.z = 1000\n",
        "\n",
        "inst_test1.class_print() #作成したclass_print関数の呼び出し\n",
        "\n",
        "#inst_test1に \"=\" でクラスclass_testを入れているので、クラスclass_test内での作成した関数class_printの引数であるtaiyakiに、inst_test1が入る。\n",
        "#そして、print(taiyaki.x, taiyaki.y)が print(inst_test1.x, inst_test1.y)になり、出力される。\n",
        "\n",
        "print (\"---\")\n",
        "inst_test1.z  #inst_test1.zを表示させる"
      ],
      "metadata": {
        "colab": {
          "base_uri": "https://localhost:8080/"
        },
        "id": "giwckgcr8SOG",
        "outputId": "75b389f1-ef68-4d8e-fbb7-9b264caa36e0"
      },
      "execution_count": null,
      "outputs": [
        {
          "output_type": "stream",
          "name": "stdout",
          "text": [
            "10 100\n",
            "---\n"
          ]
        },
        {
          "output_type": "execute_result",
          "data": {
            "text/plain": [
              "1000"
            ]
          },
          "metadata": {},
          "execution_count": 167
        }
      ]
    },
    {
      "cell_type": "code",
      "source": [
        "#クラスclassとインスタンスinstanceとコンストラクタconstructor\n",
        "\n",
        "class MyClass_keisan:\n",
        "\n",
        "  #コンストラクタ(__init__)：オブジェクト生成時に呼び出される特殊な関数、初期化など\n",
        "  def __init__ (keisan, x, y):\n",
        "    keisan.x = x\n",
        "    keisan.y = y\n",
        "\n",
        "  def calc_add1(keisan, a, b):\n",
        "    return a + b\n",
        "\n",
        "  def calc_add2(keisan):\n",
        "    return keisan.x + keisan.y\n",
        "\n",
        "  def calc_multi(keisan, a, b):\n",
        "    return a * b\n",
        "\n",
        "  def calc_print(keisan, a):\n",
        "    print (\"data：{0}、yの値：{1}\" .format(a, keisan.y))"
      ],
      "metadata": {
        "id": "kG5fjc-zBk8W"
      },
      "execution_count": null,
      "outputs": []
    },
    {
      "cell_type": "code",
      "source": [
        "instance_1 =  MyClass_keisan(1, 2)   #__inst__が実行されて、xとyにそれぞれ1と2が代入される。\n",
        "instance_2 = MyClass_keisan(5, 10)  #__inst__が実行されて、xとyにそれぞれ5と10が代入される\n",
        "#は、__init__ がクラス内で定義されていないとき、「TypeError: MyClass_keisan() takes no arguments」が出る\n",
        "\n",
        "#インスタンスの関数(メソッド)を呼び出す\n",
        "\n",
        "#引数5と3がcalc_add1に基づいて加算し返却\n",
        "print('２つの数の足し算（新たな数字に引数としてセット）:', instance_1.calc_add1(5, 3))\n",
        "\n",
        "#calc_add2の引数がセットされていないので、instance_1の初期値である1と2をcalc_add2に基づいて加算し返却\n",
        "print('２つの数の足し算（インスタンス化の時の値）      :', instance_1.calc_add2())\n",
        "\n",
        "#引数5と3をcalc_multiに基づいて計算して返却\n",
        "print('２つの数のかけ算（）                            :', instance_1.calc_multi(5, 3))\n",
        "\n",
        "#関数calc_printの引数の初期値aを5として設定して、calc_printを実行する\n",
        "#print (\"data：{0}、yの値：{1}\" .format(a, keisan.y))　がcalc_printの関数の中身\n",
        "instance_1.calc_print(5)\n",
        "\n",
        "print (\"---\")\n",
        "\n",
        "#以下は、instance_2で上と同じことをしている\n",
        "print('２つの数の足し算（新たな数字に引数としてセット）:', instance_2.calc_add1(10, 3))\n",
        "print('２つの数の足し算（インスタンス化の時の値）      :', instance_2.calc_add2())\n",
        "print('２つの数のかけ算（）                            :', instance_2.calc_multi(4, 3))\n",
        "instance_2.calc_print(20)"
      ],
      "metadata": {
        "colab": {
          "base_uri": "https://localhost:8080/"
        },
        "id": "AE7pnXcEGK9U",
        "outputId": "ee7e1fe2-5f97-424d-f3c7-6bfbdefd76de"
      },
      "execution_count": null,
      "outputs": [
        {
          "output_type": "stream",
          "name": "stdout",
          "text": [
            "２つの数の足し算（新たな数字に引数としてセット）: 8\n",
            "２つの数の足し算（インスタンス化の時の値）      : 3\n",
            "２つの数のかけ算（）                            : 15\n",
            "data：5、yの値：2\n",
            "---\n",
            "２つの数の足し算（新たな数字に引数としてセット）: 13\n",
            "２つの数の足し算（インスタンス化の時の値）      : 15\n",
            "２つの数のかけ算（）                            : 12\n",
            "data：20、yの値：10\n"
          ]
        }
      ]
    },
    {
      "cell_type": "code",
      "source": [
        "#総合問題1-1-1\n",
        "#10までの素数を表示させるプログラムを作成しなさい。\n",
        "\n",
        "#解答1\n",
        "n_list = range(2, 10 + 1) #2～10までの整数を作成\n",
        "\n",
        "for i in range(2, int(10 ** 0.5) + 1):\n",
        "    #2, 3, ...と順に割り切れるかを調べていく\n",
        "    n_list = [x for x in n_list if(x == i or x % i != 0)]\n",
        "\n",
        "for j in n_list:\n",
        "    print(j)"
      ],
      "metadata": {
        "colab": {
          "base_uri": "https://localhost:8080/"
        },
        "id": "cyoKUifsMuKz",
        "outputId": "35473195-dc6c-42bb-bd45-e11ee8bf3e4e"
      },
      "execution_count": null,
      "outputs": [
        {
          "output_type": "stream",
          "name": "stdout",
          "text": [
            "2\n",
            "3\n",
            "5\n",
            "7\n"
          ]
        }
      ]
    },
    {
      "cell_type": "code",
      "source": [
        "#総合問題1-1-2\n",
        "#上記をさらに一般化して、Nを自然数としてNまでの素数を表示する関数を作成しなさい。\n",
        "\n",
        "#解答2\n",
        "def calc_prime_num(N):\n",
        "    n_list = range(2, N + 1)\n",
        "\n",
        "    for i in range(2, int(N ** 0.5) + 1):\n",
        "        #2, 3, ...と順に割り切れるかを調べていく\n",
        "        n_list = [x for x in n_list if(x == i or x % i != 0)]\n",
        "\n",
        "    for j in n_list:\n",
        "        print(j)\n",
        "#計算実行\n",
        "calc_prime_num(30)"
      ],
      "metadata": {
        "colab": {
          "base_uri": "https://localhost:8080/"
        },
        "id": "Z22vTpevPVE3",
        "outputId": "87105a04-cf53-48a6-a19b-57221db49fe4"
      },
      "execution_count": null,
      "outputs": [
        {
          "output_type": "stream",
          "name": "stdout",
          "text": [
            "2\n",
            "3\n",
            "5\n",
            "7\n",
            "11\n",
            "13\n",
            "17\n",
            "19\n",
            "23\n",
            "29\n"
          ]
        }
      ]
    },
    {
      "cell_type": "code",
      "source": [],
      "metadata": {
        "id": "Zs03EAELPXVo"
      },
      "execution_count": null,
      "outputs": []
    }
  ]
}